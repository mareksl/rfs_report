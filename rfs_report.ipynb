{
 "cells": [
  {
   "cell_type": "markdown",
   "metadata": {},
   "source": [
    "Import libraries."
   ]
  },
  {
   "cell_type": "code",
   "execution_count": 114,
   "metadata": {},
   "outputs": [],
   "source": [
    "import pandas as pd\n",
    "import numpy as np\n",
    "from datetime import datetime\n",
    "import os\n",
    "import errno"
   ]
  },
  {
   "cell_type": "markdown",
   "metadata": {},
   "source": [
    "Get list of funds registered in Austria and list of Meldefonds from [__Profitweb__](https://www.profitweb.at/).\n",
    "\n",
    "Save the files as _.xlsx_ to be able to read them in."
   ]
  },
  {
   "cell_type": "code",
   "execution_count": 115,
   "metadata": {},
   "outputs": [],
   "source": [
    "oekb_rfs_file = pd.read_excel('data/oekb_rfs.xlsx')\n",
    "oekb_melde_file = pd.read_excel('data/oekb_melde.xlsx')"
   ]
  },
  {
   "cell_type": "markdown",
   "metadata": {},
   "source": [
    "[__Generate RFS Report__](http://lctprod2.int.thomsonreuters.com/reportingTool/Report?id=76) and read it in as _.csv_.\n",
    "\n",
    "__Domicile__: blank\n",
    "\n",
    "__RFS__: blank\n",
    "\n",
    "__Asset Universe__: Closed End Funds, Exchange Traded Funds, Hedge Funds, Insurace Funds, Mutual Funds, Pension Funds, Investment Trusts\n",
    "\n",
    "__Status__: Active, Created, Pending, Suspended, Withdrawn"
   ]
  },
  {
   "cell_type": "code",
   "execution_count": 116,
   "metadata": {},
   "outputs": [
    {
     "name": "stderr",
     "output_type": "stream",
     "text": [
      "C:\\Users\\U6046944\\AppData\\Local\\Continuum\\anaconda3\\envs\\python-for-data-science\\lib\\site-packages\\IPython\\core\\interactiveshell.py:2785: DtypeWarning: Columns (9,10,15,19,21,24) have mixed types. Specify dtype option on import or set low_memory=False.\n",
      "  interactivity=interactivity, compiler=compiler, result=result)\n"
     ]
    }
   ],
   "source": [
    "report_file = pd.read_csv('data/Report_RFSSwitzerlandandRFSAustriaReport_.csv')"
   ]
  },
  {
   "cell_type": "markdown",
   "metadata": {},
   "source": [
    "---"
   ]
  },
  {
   "cell_type": "markdown",
   "metadata": {},
   "source": [
    "Create sets of OeKB RFS and Meldefonds. Remove Austrian funds from Meldefonds list."
   ]
  },
  {
   "cell_type": "code",
   "execution_count": 117,
   "metadata": {},
   "outputs": [],
   "source": [
    "# OeKB Funds with RFS Austria\n",
    "oekb_rfs = set(oekb_rfs_file['ISIN'])\n",
    "\n",
    "#OeKB Meldefonds and Meldefonds with RFS Austria\n",
    "oekb_melde_all = set(oekb_melde_file.loc[oekb_melde_file['ISIN'].str[:2]!='AT']['ISIN'])"
   ]
  },
  {
   "cell_type": "markdown",
   "metadata": {},
   "source": [
    "Filter generated report file to exclude Funds domiciled in Austria, Umbrella Funds and drop Funds without ISIN (convenience share classes)."
   ]
  },
  {
   "cell_type": "code",
   "execution_count": 118,
   "metadata": {},
   "outputs": [],
   "source": [
    "criteria_1 = report_file['Domicile']!='Austria'\n",
    "criteria_2 = report_file['Umbrella Flag']=='No'\n",
    "\n",
    "criteria_all = criteria_1 & criteria_2\n",
    "\n",
    "report_file_filtered = report_file[criteria_all].dropna(subset=['ISIN'])"
   ]
  },
  {
   "cell_type": "markdown",
   "metadata": {},
   "source": [
    "Create sets of __all Funds__ in Report, __all Funds with RFS Austria__ and __all Meldefonds__."
   ]
  },
  {
   "cell_type": "code",
   "execution_count": 119,
   "metadata": {},
   "outputs": [],
   "source": [
    "# Lipper all Funds\n",
    "lipper_all = set(report_file_filtered['ISIN'])"
   ]
  },
  {
   "cell_type": "code",
   "execution_count": 120,
   "metadata": {},
   "outputs": [],
   "source": [
    "# Lipper Funds with RFS Austria\n",
    "lipper_rfs = set(report_file_filtered[report_file_filtered['Notified for Sale in Austria']=='Yes']['ISIN'])"
   ]
  },
  {
   "cell_type": "code",
   "execution_count": 121,
   "metadata": {},
   "outputs": [],
   "source": [
    "melde_criteria_1 = report_file_filtered['Austrian Registration Status']=='Meldefonds'\n",
    "melde_criteria_2 = report_file_filtered['Austrian Registration Status']=='Meldefonds / Zugelassen'\n",
    "melde_criteria_3 = report_file_filtered['Austrian Registration Status']=='Zugelassen'\n",
    "melde_criteria_all = melde_criteria_1 | melde_criteria_2 | melde_criteria_3\n",
    "\n",
    "# Lipper Meldefonds and Meldefonds with RFS Austria\n",
    "lipper_melde_all = set(report_file_filtered[melde_criteria_all]['ISIN'])"
   ]
  },
  {
   "cell_type": "code",
   "execution_count": 122,
   "metadata": {},
   "outputs": [],
   "source": [
    "lipper_melde = set(report_file_filtered[melde_criteria_1]['ISIN'])\n",
    "lipper_melde_zugelassen = set(report_file_filtered[melde_criteria_2]['ISIN'])\n",
    "lipper_zugelassen = set(report_file_filtered[melde_criteria_3]['ISIN'])"
   ]
  },
  {
   "cell_type": "markdown",
   "metadata": {},
   "source": [
    "---"
   ]
  },
  {
   "cell_type": "code",
   "execution_count": 123,
   "metadata": {},
   "outputs": [],
   "source": [
    "oekb_melde = oekb_melde_all - oekb_rfs\n",
    "oekb_zugelassen = oekb_rfs - oekb_melde_all\n",
    "oekb_melde_zugelassen = oekb_melde_all & oekb_rfs"
   ]
  },
  {
   "cell_type": "code",
   "execution_count": 124,
   "metadata": {},
   "outputs": [],
   "source": [
    "melde_to_delete = lipper_melde_all - (oekb_melde_all | oekb_rfs)"
   ]
  },
  {
   "cell_type": "code",
   "execution_count": 125,
   "metadata": {},
   "outputs": [],
   "source": [
    "melde_to_add = ((oekb_melde_all | oekb_rfs) - lipper_melde_all) & lipper_all"
   ]
  },
  {
   "cell_type": "code",
   "execution_count": 126,
   "metadata": {},
   "outputs": [],
   "source": [
    "rfs_to_delete = lipper_rfs - oekb_rfs"
   ]
  },
  {
   "cell_type": "code",
   "execution_count": 127,
   "metadata": {},
   "outputs": [],
   "source": [
    "rfs_to_add = (oekb_rfs - lipper_rfs) & lipper_all"
   ]
  },
  {
   "cell_type": "code",
   "execution_count": 128,
   "metadata": {},
   "outputs": [],
   "source": [
    "def filter_melde(x):\n",
    "    if (x in oekb_melde and x in lipper_melde):\n",
    "        return False\n",
    "    if (x in oekb_zugelassen and x in lipper_zugelassen):\n",
    "        return False\n",
    "    if(x in oekb_melde_zugelassen and x in lipper_melde_zugelassen):\n",
    "        return False\n",
    "    return True"
   ]
  },
  {
   "cell_type": "code",
   "execution_count": 129,
   "metadata": {},
   "outputs": [],
   "source": [
    "melde_to_filter = ((oekb_melde | oekb_melde_zugelassen | oekb_zugelassen) & lipper_all) - melde_to_add\n",
    "melde_to_change = set(filter(filter_melde, melde_to_filter))"
   ]
  },
  {
   "cell_type": "markdown",
   "metadata": {},
   "source": [
    "---"
   ]
  },
  {
   "cell_type": "code",
   "execution_count": 130,
   "metadata": {},
   "outputs": [],
   "source": [
    "def melde_status(x):\n",
    "    if (x in oekb_melde):\n",
    "        return 'Meldefonds'\n",
    "    if (x in oekb_zugelassen):\n",
    "        return 'Zugelassen'\n",
    "    if (x in oekb_melde_zugelassen):\n",
    "        return 'Meldefonds / Zugelassen'"
   ]
  },
  {
   "cell_type": "code",
   "execution_count": 131,
   "metadata": {},
   "outputs": [],
   "source": [
    "df_rfs_to_add = pd.DataFrame()\n",
    "df_rfs_to_add['ISIN Code (Xref)'] = pd.Series(list(rfs_to_add))\n",
    "df_rfs_to_add['Registered For Sale Country (Add RFS)'] = 'Austria'"
   ]
  },
  {
   "cell_type": "code",
   "execution_count": 132,
   "metadata": {},
   "outputs": [],
   "source": [
    "df_rfs_to_delete = pd.DataFrame()\n",
    "df_rfs_to_delete['ISIN Code (Xref)'] = pd.Series(list(rfs_to_delete))\n",
    "df_rfs_to_delete['Registered For Sale Country (Remove RFS)'] = 'Austria'"
   ]
  },
  {
   "cell_type": "code",
   "execution_count": 133,
   "metadata": {},
   "outputs": [],
   "source": [
    "df1 = pd.DataFrame()\n",
    "df1['ISIN Code (Xref)'] = pd.Series(list(melde_to_delete))\n",
    "df1['Austrian Registration Status'] = 'NULL'\n",
    "df1['Attribute Start Date'] = '01/01/1800'\n",
    "df1['Attribute Overwrite Historical Flag'] = 'Yes'"
   ]
  },
  {
   "cell_type": "code",
   "execution_count": 134,
   "metadata": {},
   "outputs": [],
   "source": [
    "df2 = pd.DataFrame()\n",
    "df2['ISIN Code (Xref)'] = pd.Series(list(melde_to_change | melde_to_add))\n",
    "df2['Austrian Registration Status'] = df2['ISIN Code (Xref)'].apply(melde_status)\n",
    "df2['Attribute Start Date'] = '01/01/1800'\n",
    "df2['Attribute Overwrite Historical Flag'] = 'Yes'"
   ]
  },
  {
   "cell_type": "code",
   "execution_count": 135,
   "metadata": {},
   "outputs": [],
   "source": [
    "df_status = pd.concat([df1, df2])"
   ]
  },
  {
   "cell_type": "code",
   "execution_count": 136,
   "metadata": {},
   "outputs": [],
   "source": [
    "time = datetime.now().strftime(\"%Y%m%d_%H%M%S\")\n",
    "dirname = '/output/{}'.format(time)\n",
    "if not os.path.exists(os.getcwd() + dirname):\n",
    "    try:\n",
    "        os.makedirs(os.getcwd() + dirname)\n",
    "    except OSError as exc: # Guard against race condition\n",
    "        if exc.errno != errno.EEXIST:\n",
    "            raise"
   ]
  },
  {
   "cell_type": "code",
   "execution_count": 137,
   "metadata": {},
   "outputs": [],
   "source": [
    "df_rfs_to_add.to_csv('output/{0}/RFS_TO_ADD_{0}.csv'.format(time))\n",
    "df_rfs_to_delete.to_csv('output/{0}/RFS_TO_REMOVE_{0}.csv'.format(time))\n",
    "df_status.to_csv('output/{0}/STATUS_TO_UPDATE_{0}.csv'.format(time))"
   ]
  },
  {
   "cell_type": "markdown",
   "metadata": {},
   "source": [
    "---"
   ]
  },
  {
   "cell_type": "code",
   "execution_count": 138,
   "metadata": {},
   "outputs": [],
   "source": [
    "log_message = \"\"\"RFS deleted:\\t\\t{}\n",
    "RFS added:\\t\\t{}\n",
    "Status deleted:\\t\\t{}\n",
    "Status added:\\t\\t{}\n",
    "Status updated: \\t{}\n",
    "\"\"\".format(len(rfs_to_delete), len(rfs_to_add), len(melde_to_delete), len(melde_to_add), len(melde_to_change))"
   ]
  },
  {
   "cell_type": "code",
   "execution_count": 139,
   "metadata": {},
   "outputs": [],
   "source": [
    "with open(\"log.txt\", \"a\") as f:\n",
    "    f.write('-' * 10)\n",
    "    f.write('\\n')\n",
    "    f.write('-' * 10)\n",
    "    f.write('\\n')\n",
    "    f.write(str(datetime.now()))\n",
    "    f.write('\\n\\n')\n",
    "    f.write(log_message)\n",
    "    f.write('\\n')"
   ]
  }
 ],
 "metadata": {
  "kernelspec": {
   "display_name": "Python 3",
   "language": "python",
   "name": "python3"
  },
  "language_info": {
   "codemirror_mode": {
    "name": "ipython",
    "version": 3
   },
   "file_extension": ".py",
   "mimetype": "text/x-python",
   "name": "python",
   "nbconvert_exporter": "python",
   "pygments_lexer": "ipython3",
   "version": "3.6.6"
  }
 },
 "nbformat": 4,
 "nbformat_minor": 2
}
